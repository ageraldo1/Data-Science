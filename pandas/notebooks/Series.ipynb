{
 "cells": [
  {
   "cell_type": "markdown",
   "metadata": {},
   "source": [
    "# Series"
   ]
  },
  {
   "cell_type": "markdown",
   "metadata": {},
   "source": [
    "### Pandas libraries"
   ]
  },
  {
   "cell_type": "code",
   "execution_count": 1,
   "metadata": {},
   "outputs": [],
   "source": [
    "import pandas as pd\n",
    "from pandas import DataFrame, Series"
   ]
  },
  {
   "cell_type": "markdown",
   "metadata": {},
   "source": [
    "### 1. Create a Series object from a Python List"
   ]
  },
  {
   "cell_type": "code",
   "execution_count": 7,
   "metadata": {},
   "outputs": [
    {
     "data": {
      "text/plain": [
       "0     chocolate\n",
       "1       vanilla\n",
       "2    strawberry\n",
       "3    rum raisin\n",
       "dtype: object"
      ]
     },
     "execution_count": 7,
     "metadata": {},
     "output_type": "execute_result"
    }
   ],
   "source": [
    "# one dimension array \n",
    "# more powerfull version of a Python list\n",
    "# one column information and store sequence data\n",
    "# Series = List + Dict\n",
    "# dtype : object -> String\n",
    "\n",
    "ice_cream = ['chocolate', 'vanilla', 'strawberry', 'rum raisin']\n",
    "\n",
    "\n",
    "pd.Series(ice_cream)"
   ]
  },
  {
   "cell_type": "markdown",
   "metadata": {},
   "source": [
    "#### Using integers"
   ]
  },
  {
   "cell_type": "code",
   "execution_count": 9,
   "metadata": {},
   "outputs": [
    {
     "data": {
      "text/plain": [
       "0     4\n",
       "1     8\n",
       "2    15\n",
       "3    16\n",
       "4    23\n",
       "5    42\n",
       "dtype: int64"
      ]
     },
     "execution_count": 9,
     "metadata": {},
     "output_type": "execute_result"
    }
   ],
   "source": [
    "# index is auto assigned as numeric starting at zero (left column)\n",
    "lottery = [4, 8, 15, 16, 23, 42]\n",
    "\n",
    "pd.Series(lottery)"
   ]
  },
  {
   "cell_type": "markdown",
   "metadata": {},
   "source": [
    "#### Using booleans"
   ]
  },
  {
   "cell_type": "code",
   "execution_count": 11,
   "metadata": {},
   "outputs": [
    {
     "data": {
      "text/plain": [
       "0     True\n",
       "1    False\n",
       "2    False\n",
       "3    False\n",
       "4     True\n",
       "dtype: bool"
      ]
     },
     "execution_count": 11,
     "metadata": {},
     "output_type": "execute_result"
    }
   ],
   "source": [
    "registrations = [True, False, False, False, True]\n",
    "\n",
    "pd.Series(registrations)"
   ]
  },
  {
   "cell_type": "markdown",
   "metadata": {},
   "source": [
    "### 2. Create a Series object from a Python Dictionary"
   ]
  },
  {
   "cell_type": "code",
   "execution_count": 18,
   "metadata": {},
   "outputs": [
    {
     "data": {
      "text/plain": [
       "name        Alex\n",
       "age           40\n",
       "city     Suwanee\n",
       "state         GA\n",
       "dtype: object"
      ]
     },
     "execution_count": 18,
     "metadata": {},
     "output_type": "execute_result"
    }
   ],
   "source": [
    "# dictionary keys are used as index for the Series\n",
    "\n",
    "person = {\n",
    "    \"name\": \"Alex\",\n",
    "    \"age\": 40,\n",
    "    \"city\": \"Suwanee\",\n",
    "    \"state\": \"GA\"    \n",
    "}\n",
    "\n",
    "pd.Series(person)"
   ]
  },
  {
   "cell_type": "markdown",
   "metadata": {},
   "source": [
    "### 3. Attributes"
   ]
  },
  {
   "cell_type": "code",
   "execution_count": 25,
   "metadata": {},
   "outputs": [],
   "source": [
    "names = ['Alex', 'John', 'Max', 'Todd', 'Matthew']\n",
    "\n",
    "s = pd.Series(names)\n"
   ]
  },
  {
   "cell_type": "code",
   "execution_count": 27,
   "metadata": {},
   "outputs": [
    {
     "data": {
      "text/plain": [
       "array(['Alex', 'John', 'Max', 'Todd', 'Matthew'], dtype=object)"
      ]
     },
     "execution_count": 27,
     "metadata": {},
     "output_type": "execute_result"
    }
   ],
   "source": [
    "# Series values\n",
    "s.values"
   ]
  },
  {
   "cell_type": "code",
   "execution_count": 28,
   "metadata": {},
   "outputs": [
    {
     "data": {
      "text/plain": [
       "RangeIndex(start=0, stop=5, step=1)"
      ]
     },
     "execution_count": 28,
     "metadata": {},
     "output_type": "execute_result"
    }
   ],
   "source": [
    "# Series index\n",
    "s.index"
   ]
  },
  {
   "cell_type": "code",
   "execution_count": 30,
   "metadata": {},
   "outputs": [
    {
     "data": {
      "text/plain": [
       "dtype('O')"
      ]
     },
     "execution_count": 30,
     "metadata": {},
     "output_type": "execute_result"
    }
   ],
   "source": [
    "# Series type\n",
    "s.dtype"
   ]
  },
  {
   "cell_type": "markdown",
   "metadata": {},
   "source": [
    "### 4. Methods"
   ]
  },
  {
   "cell_type": "code",
   "execution_count": 31,
   "metadata": {},
   "outputs": [],
   "source": [
    "prices = [2.99, 4.45, 1.36]\n",
    "\n",
    "s = pd.Series(prices)"
   ]
  },
  {
   "cell_type": "code",
   "execution_count": 33,
   "metadata": {},
   "outputs": [
    {
     "data": {
      "text/plain": [
       "8.8"
      ]
     },
     "execution_count": 33,
     "metadata": {},
     "output_type": "execute_result"
    }
   ],
   "source": [
    "# sum method\n",
    "s.sum()"
   ]
  },
  {
   "cell_type": "code",
   "execution_count": 34,
   "metadata": {},
   "outputs": [
    {
     "data": {
      "text/plain": [
       "18.095480000000006"
      ]
     },
     "execution_count": 34,
     "metadata": {},
     "output_type": "execute_result"
    }
   ],
   "source": [
    "# product method\n",
    "s.product()"
   ]
  },
  {
   "cell_type": "code",
   "execution_count": 36,
   "metadata": {},
   "outputs": [
    {
     "data": {
      "text/plain": [
       "1.36"
      ]
     },
     "execution_count": 36,
     "metadata": {},
     "output_type": "execute_result"
    }
   ],
   "source": [
    "# min / max methods\n",
    "s.min()\n",
    "s.max()"
   ]
  },
  {
   "cell_type": "markdown",
   "metadata": {},
   "source": [
    "### 5. Parameters and arguments"
   ]
  },
  {
   "cell_type": "code",
   "execution_count": 38,
   "metadata": {},
   "outputs": [
    {
     "data": {
      "text/plain": [
       "Monday           Apple\n",
       "Tuesday         Orange\n",
       "Wednesday         Plum\n",
       "Thursday         Grape\n",
       "Friday       Blueberry\n",
       "dtype: object"
      ]
     },
     "execution_count": 38,
     "metadata": {},
     "output_type": "execute_result"
    }
   ],
   "source": [
    "# the size of the list of data and the list of index must be the same\n",
    "fruits = ['Apple', 'Orange', 'Plum', 'Grape', 'Blueberry']\n",
    "\n",
    "weekdays = ['Monday', 'Tuesday', 'Wednesday', 'Thursday', 'Friday']\n",
    "\n",
    "pd.Series(data=fruits, index=weekdays)"
   ]
  },
  {
   "cell_type": "code",
   "execution_count": 39,
   "metadata": {},
   "outputs": [
    {
     "data": {
      "text/plain": [
       "Monday            Apple\n",
       "Tuesday          Orange\n",
       "Wednesday          Plum\n",
       "Thursday          Grape\n",
       "Friday        Blueberry\n",
       "Monday       Watermelon\n",
       "dtype: object"
      ]
     },
     "execution_count": 39,
     "metadata": {},
     "output_type": "execute_result"
    }
   ],
   "source": [
    "# index value can be duplicated\n",
    "# note that with duplicate indexes, some operations might not work\n",
    "\n",
    "fruits = ['Apple', 'Orange', 'Plum', 'Grape', 'Blueberry', 'Watermelon']\n",
    "\n",
    "weekdays = ['Monday', 'Tuesday', 'Wednesday', 'Thursday', 'Friday', 'Monday']\n",
    "\n",
    "pd.Series(data=fruits, index=weekdays)"
   ]
  },
  {
   "cell_type": "markdown",
   "metadata": {},
   "source": [
    "### 6. Import series with read_csv method"
   ]
  },
  {
   "cell_type": "code",
   "execution_count": 92,
   "metadata": {},
   "outputs": [],
   "source": [
    "# read_csv method returns a dataframe by default. To force the return to be a Series object, use squeeze = True\n",
    "\n",
    "pokemon = pd.read_csv('../resources/pokemon.csv',usecols=['Pokemon'], squeeze = True)\n",
    "\n",
    "google = pd.read_csv('../resources/google_stock_price.csv', squeeze = True)"
   ]
  },
  {
   "cell_type": "code",
   "execution_count": 54,
   "metadata": {},
   "outputs": [
    {
     "data": {
      "text/plain": [
       "'Pokemon'"
      ]
     },
     "execution_count": 54,
     "metadata": {},
     "output_type": "execute_result"
    }
   ],
   "source": [
    "# name of the series - use the header of the csv file\n",
    "pokemon.name"
   ]
  },
  {
   "cell_type": "markdown",
   "metadata": {},
   "source": [
    "### 7. Head and Tail methods"
   ]
  },
  {
   "cell_type": "code",
   "execution_count": 57,
   "metadata": {},
   "outputs": [
    {
     "data": {
      "text/plain": [
       "0     Bulbasaur\n",
       "1       Ivysaur\n",
       "2      Venusaur\n",
       "3    Charmander\n",
       "4    Charmeleon\n",
       "Name: Pokemon, dtype: object"
      ]
     },
     "execution_count": 57,
     "metadata": {},
     "output_type": "execute_result"
    }
   ],
   "source": [
    "pokemon.head(5)"
   ]
  },
  {
   "cell_type": "code",
   "execution_count": 58,
   "metadata": {},
   "outputs": [],
   "source": [
    "reduced_pokemon = pokemon.head(10)"
   ]
  },
  {
   "cell_type": "code",
   "execution_count": 60,
   "metadata": {},
   "outputs": [
    {
     "data": {
      "text/plain": [
       "3011    782.22\n",
       "Name: Stock Price, dtype: float64"
      ]
     },
     "execution_count": 60,
     "metadata": {},
     "output_type": "execute_result"
    }
   ],
   "source": [
    "last_line = google.tail(1)\n",
    "\n",
    "last_line"
   ]
  },
  {
   "cell_type": "code",
   "execution_count": 61,
   "metadata": {},
   "outputs": [
    {
     "data": {
      "text/plain": [
       "pandas.core.series.Series"
      ]
     },
     "execution_count": 61,
     "metadata": {},
     "output_type": "execute_result"
    }
   ],
   "source": [
    "type(last_line)"
   ]
  },
  {
   "cell_type": "markdown",
   "metadata": {},
   "source": [
    "### 8. Python Built-In Functions"
   ]
  },
  {
   "cell_type": "code",
   "execution_count": 66,
   "metadata": {},
   "outputs": [
    {
     "data": {
      "text/plain": [
       "721"
      ]
     },
     "execution_count": 66,
     "metadata": {},
     "output_type": "execute_result"
    }
   ],
   "source": [
    "# len \n",
    "# same as \n",
    "# pokemon.size\n",
    "len(pokemon)"
   ]
  },
  {
   "cell_type": "code",
   "execution_count": 68,
   "metadata": {},
   "outputs": [
    {
     "data": {
      "text/plain": [
       "['Abomasnow',\n",
       " 'Abra',\n",
       " 'Absol',\n",
       " 'Accelgor',\n",
       " 'Aegislash',\n",
       " 'Aerodactyl',\n",
       " 'Aggron',\n",
       " 'Aipom',\n",
       " 'Alakazam',\n",
       " 'Alomomola',\n",
       " 'Altaria',\n",
       " 'Amaura',\n",
       " 'Ambipom',\n",
       " 'Amoonguss',\n",
       " 'Ampharos',\n",
       " 'Anorith',\n",
       " 'Arbok',\n",
       " 'Arcanine',\n",
       " 'Arceus',\n",
       " 'Archen',\n",
       " 'Archeops',\n",
       " 'Ariados',\n",
       " 'Armaldo',\n",
       " 'Aromatisse',\n",
       " 'Aron',\n",
       " 'Articuno',\n",
       " 'Audino',\n",
       " 'Aurorus',\n",
       " 'Avalugg',\n",
       " 'Axew',\n",
       " 'Azelf',\n",
       " 'Azumarill',\n",
       " 'Azurill',\n",
       " 'Bagon',\n",
       " 'Baltoy',\n",
       " 'Banette',\n",
       " 'Barbaracle',\n",
       " 'Barboach',\n",
       " 'Basculin',\n",
       " 'Bastiodon',\n",
       " 'Bayleef',\n",
       " 'Beartic',\n",
       " 'Beautifly',\n",
       " 'Beedrill',\n",
       " 'Beheeyem',\n",
       " 'Beldum',\n",
       " 'Bellossom',\n",
       " 'Bellsprout',\n",
       " 'Bergmite',\n",
       " 'Bibarel',\n",
       " 'Bidoof',\n",
       " 'Binacle',\n",
       " 'Bisharp',\n",
       " 'Blastoise',\n",
       " 'Blaziken',\n",
       " 'Blissey',\n",
       " 'Blitzle',\n",
       " 'Boldore',\n",
       " 'Bonsly',\n",
       " 'Bouffalant',\n",
       " 'Braixen',\n",
       " 'Braviary',\n",
       " 'Breloom',\n",
       " 'Bronzong',\n",
       " 'Bronzor',\n",
       " 'Budew',\n",
       " 'Buizel',\n",
       " 'Bulbasaur',\n",
       " 'Buneary',\n",
       " 'Bunnelby',\n",
       " 'Burmy',\n",
       " 'Butterfree',\n",
       " 'Cacnea',\n",
       " 'Cacturne',\n",
       " 'Camerupt',\n",
       " 'Carbink',\n",
       " 'Carnivine',\n",
       " 'Carracosta',\n",
       " 'Carvanha',\n",
       " 'Cascoon',\n",
       " 'Castform',\n",
       " 'Caterpie',\n",
       " 'Celebi',\n",
       " 'Chandelure',\n",
       " 'Chansey',\n",
       " 'Charizard',\n",
       " 'Charmander',\n",
       " 'Charmeleon',\n",
       " 'Chatot',\n",
       " 'Cherrim',\n",
       " 'Cherubi',\n",
       " 'Chesnaught',\n",
       " 'Chespin',\n",
       " 'Chikorita',\n",
       " 'Chimchar',\n",
       " 'Chimecho',\n",
       " 'Chinchou',\n",
       " 'Chingling',\n",
       " 'Cinccino',\n",
       " 'Clamperl',\n",
       " 'Clauncher',\n",
       " 'Clawitzer',\n",
       " 'Claydol',\n",
       " 'Clefable',\n",
       " 'Clefairy',\n",
       " 'Cleffa',\n",
       " 'Cloyster',\n",
       " 'Cobalion',\n",
       " 'Cofagrigus',\n",
       " 'Combee',\n",
       " 'Combusken',\n",
       " 'Conkeldurr',\n",
       " 'Corphish',\n",
       " 'Corsola',\n",
       " 'Cottonee',\n",
       " 'Cradily',\n",
       " 'Cranidos',\n",
       " 'Crawdaunt',\n",
       " 'Cresselia',\n",
       " 'Croagunk',\n",
       " 'Crobat',\n",
       " 'Croconaw',\n",
       " 'Crustle',\n",
       " 'Cryogonal',\n",
       " 'Cubchoo',\n",
       " 'Cubone',\n",
       " 'Cyndaquil',\n",
       " 'Darkrai',\n",
       " 'Darmanitan',\n",
       " 'Darumaka',\n",
       " 'Dedenne',\n",
       " 'Deerling',\n",
       " 'Deino',\n",
       " 'Delcatty',\n",
       " 'Delibird',\n",
       " 'Delphox',\n",
       " 'Deoxys',\n",
       " 'Dewgong',\n",
       " 'Dewott',\n",
       " 'Dialga',\n",
       " 'Diancie',\n",
       " 'Diggersby',\n",
       " 'Diglett',\n",
       " 'Ditto',\n",
       " 'Dodrio',\n",
       " 'Doduo',\n",
       " 'Donphan',\n",
       " 'Doublade',\n",
       " 'Dragalge',\n",
       " 'Dragonair',\n",
       " 'Dragonite',\n",
       " 'Drapion',\n",
       " 'Dratini',\n",
       " 'Drifblim',\n",
       " 'Drifloon',\n",
       " 'Drilbur',\n",
       " 'Drowzee',\n",
       " 'Druddigon',\n",
       " 'Ducklett',\n",
       " 'Dugtrio',\n",
       " 'Dunsparce',\n",
       " 'Duosion',\n",
       " 'Durant',\n",
       " 'Dusclops',\n",
       " 'Dusknoir',\n",
       " 'Duskull',\n",
       " 'Dustox',\n",
       " 'Dwebble',\n",
       " 'Eelektrik',\n",
       " 'Eelektross',\n",
       " 'Eevee',\n",
       " 'Ekans',\n",
       " 'Electabuzz',\n",
       " 'Electivire',\n",
       " 'Electrike',\n",
       " 'Electrode',\n",
       " 'Elekid',\n",
       " 'Elgyem',\n",
       " 'Emboar',\n",
       " 'Emolga',\n",
       " 'Empoleon',\n",
       " 'Entei',\n",
       " 'Escavalier',\n",
       " 'Espeon',\n",
       " 'Espurr',\n",
       " 'Excadrill',\n",
       " 'Exeggcute',\n",
       " 'Exeggutor',\n",
       " 'Exploud',\n",
       " \"Farfetch'd\",\n",
       " 'Fearow',\n",
       " 'Feebas',\n",
       " 'Fennekin',\n",
       " 'Feraligatr',\n",
       " 'Ferroseed',\n",
       " 'Ferrothorn',\n",
       " 'Finneon',\n",
       " 'Flaaffy',\n",
       " 'Flabébé',\n",
       " 'Flareon',\n",
       " 'Fletchinder',\n",
       " 'Fletchling',\n",
       " 'Floatzel',\n",
       " 'Floette',\n",
       " 'Florges',\n",
       " 'Flygon',\n",
       " 'Foongus',\n",
       " 'Forretress',\n",
       " 'Fraxure',\n",
       " 'Frillish',\n",
       " 'Froakie',\n",
       " 'Frogadier',\n",
       " 'Froslass',\n",
       " 'Furfrou',\n",
       " 'Furret',\n",
       " 'Gabite',\n",
       " 'Gallade',\n",
       " 'Galvantula',\n",
       " 'Garbodor',\n",
       " 'Garchomp',\n",
       " 'Gardevoir',\n",
       " 'Gastly',\n",
       " 'Gastrodon',\n",
       " 'Genesect',\n",
       " 'Gengar',\n",
       " 'Geodude',\n",
       " 'Gible',\n",
       " 'Gigalith',\n",
       " 'Girafarig',\n",
       " 'Giratina',\n",
       " 'Glaceon',\n",
       " 'Glalie',\n",
       " 'Glameow',\n",
       " 'Gligar',\n",
       " 'Gliscor',\n",
       " 'Gloom',\n",
       " 'Gogoat',\n",
       " 'Golbat',\n",
       " 'Goldeen',\n",
       " 'Golduck',\n",
       " 'Golem',\n",
       " 'Golett',\n",
       " 'Golurk',\n",
       " 'Goodra',\n",
       " 'Goomy',\n",
       " 'Gorebyss',\n",
       " 'Gothita',\n",
       " 'Gothitelle',\n",
       " 'Gothorita',\n",
       " 'Gourgeist',\n",
       " 'Granbull',\n",
       " 'Graveler',\n",
       " 'Greninja',\n",
       " 'Grimer',\n",
       " 'Grotle',\n",
       " 'Groudon',\n",
       " 'Grovyle',\n",
       " 'Growlithe',\n",
       " 'Grumpig',\n",
       " 'Gulpin',\n",
       " 'Gurdurr',\n",
       " 'Gyarados',\n",
       " 'Happiny',\n",
       " 'Hariyama',\n",
       " 'Haunter',\n",
       " 'Hawlucha',\n",
       " 'Haxorus',\n",
       " 'Heatmor',\n",
       " 'Heatran',\n",
       " 'Heliolisk',\n",
       " 'Helioptile',\n",
       " 'Heracross',\n",
       " 'Herdier',\n",
       " 'Hippopotas',\n",
       " 'Hippowdon',\n",
       " 'Hitmonchan',\n",
       " 'Hitmonlee',\n",
       " 'Hitmontop',\n",
       " 'Ho-oh',\n",
       " 'Honchkrow',\n",
       " 'Honedge',\n",
       " 'Hoopa',\n",
       " 'Hoothoot',\n",
       " 'Hoppip',\n",
       " 'Horsea',\n",
       " 'Houndoom',\n",
       " 'Houndour',\n",
       " 'Huntail',\n",
       " 'Hydreigon',\n",
       " 'Hypno',\n",
       " 'Igglybuff',\n",
       " 'Illumise',\n",
       " 'Infernape',\n",
       " 'Inkay',\n",
       " 'Ivysaur',\n",
       " 'Jellicent',\n",
       " 'Jigglypuff',\n",
       " 'Jirachi',\n",
       " 'Jolteon',\n",
       " 'Joltik',\n",
       " 'Jumpluff',\n",
       " 'Jynx',\n",
       " 'Kabuto',\n",
       " 'Kabutops',\n",
       " 'Kadabra',\n",
       " 'Kakuna',\n",
       " 'Kangaskhan',\n",
       " 'Karrablast',\n",
       " 'Kecleon',\n",
       " 'Keldeo',\n",
       " 'Kingdra',\n",
       " 'Kingler',\n",
       " 'Kirlia',\n",
       " 'Klang',\n",
       " 'Klefki',\n",
       " 'Klink',\n",
       " 'Klinklang',\n",
       " 'Koffing',\n",
       " 'Krabby',\n",
       " 'Kricketot',\n",
       " 'Kricketune',\n",
       " 'Krokorok',\n",
       " 'Krookodile',\n",
       " 'Kyogre',\n",
       " 'Kyurem',\n",
       " 'Lairon',\n",
       " 'Lampent',\n",
       " 'Landorus',\n",
       " 'Lanturn',\n",
       " 'Lapras',\n",
       " 'Larvesta',\n",
       " 'Larvitar',\n",
       " 'Latias',\n",
       " 'Latios',\n",
       " 'Leafeon',\n",
       " 'Leavanny',\n",
       " 'Ledian',\n",
       " 'Ledyba',\n",
       " 'Lickilicky',\n",
       " 'Lickitung',\n",
       " 'Liepard',\n",
       " 'Lileep',\n",
       " 'Lilligant',\n",
       " 'Lillipup',\n",
       " 'Linoone',\n",
       " 'Litleo',\n",
       " 'Litwick',\n",
       " 'Lombre',\n",
       " 'Lopunny',\n",
       " 'Lotad',\n",
       " 'Loudred',\n",
       " 'Lucario',\n",
       " 'Ludicolo',\n",
       " 'Lugia',\n",
       " 'Lumineon',\n",
       " 'Lunatone',\n",
       " 'Luvdisc',\n",
       " 'Luxio',\n",
       " 'Luxray',\n",
       " 'Machamp',\n",
       " 'Machoke',\n",
       " 'Machop',\n",
       " 'Magby',\n",
       " 'Magcargo',\n",
       " 'Magikarp',\n",
       " 'Magmar',\n",
       " 'Magmortar',\n",
       " 'Magnemite',\n",
       " 'Magneton',\n",
       " 'Magnezone',\n",
       " 'Makuhita',\n",
       " 'Malamar',\n",
       " 'Mamoswine',\n",
       " 'Manaphy',\n",
       " 'Mandibuzz',\n",
       " 'Manectric',\n",
       " 'Mankey',\n",
       " 'Mantine',\n",
       " 'Mantyke',\n",
       " 'Maractus',\n",
       " 'Mareep',\n",
       " 'Marill',\n",
       " 'Marowak',\n",
       " 'Marshtomp',\n",
       " 'Masquerain',\n",
       " 'Mawile',\n",
       " 'Medicham',\n",
       " 'Meditite',\n",
       " 'Meganium',\n",
       " 'Meloetta',\n",
       " 'Meowstic',\n",
       " 'Meowth',\n",
       " 'Mesprit',\n",
       " 'Metagross',\n",
       " 'Metang',\n",
       " 'Metapod',\n",
       " 'Mew',\n",
       " 'Mewtwo',\n",
       " 'Mienfoo',\n",
       " 'Mienshao',\n",
       " 'Mightyena',\n",
       " 'Milotic',\n",
       " 'Miltank',\n",
       " 'Mime Jr.',\n",
       " 'Minccino',\n",
       " 'Minun',\n",
       " 'Misdreavus',\n",
       " 'Mismagius',\n",
       " 'Moltres',\n",
       " 'Monferno',\n",
       " 'Mothim',\n",
       " 'Mr. Mime',\n",
       " 'Mudkip',\n",
       " 'Muk',\n",
       " 'Munchlax',\n",
       " 'Munna',\n",
       " 'Murkrow',\n",
       " 'Musharna',\n",
       " 'Natu',\n",
       " 'Nidoking',\n",
       " 'Nidoqueen',\n",
       " 'Nidoran',\n",
       " 'Nidoran♂',\n",
       " 'Nidorina',\n",
       " 'Nidorino',\n",
       " 'Nincada',\n",
       " 'Ninetales',\n",
       " 'Ninjask',\n",
       " 'Noctowl',\n",
       " 'Noibat',\n",
       " 'Noivern',\n",
       " 'Nosepass',\n",
       " 'Numel',\n",
       " 'Nuzleaf',\n",
       " 'Octillery',\n",
       " 'Oddish',\n",
       " 'Omanyte',\n",
       " 'Omastar',\n",
       " 'Onix',\n",
       " 'Oshawott',\n",
       " 'Pachirisu',\n",
       " 'Palkia',\n",
       " 'Palpitoad',\n",
       " 'Pancham',\n",
       " 'Pangoro',\n",
       " 'Panpour',\n",
       " 'Pansage',\n",
       " 'Pansear',\n",
       " 'Paras',\n",
       " 'Parasect',\n",
       " 'Patrat',\n",
       " 'Pawniard',\n",
       " 'Pelipper',\n",
       " 'Persian',\n",
       " 'Petilil',\n",
       " 'Phanpy',\n",
       " 'Phantump',\n",
       " 'Phione',\n",
       " 'Pichu',\n",
       " 'Pidgeot',\n",
       " 'Pidgeotto',\n",
       " 'Pidgey',\n",
       " 'Pidove',\n",
       " 'Pignite',\n",
       " 'Pikachu',\n",
       " 'Piloswine',\n",
       " 'Pineco',\n",
       " 'Pinsir',\n",
       " 'Piplup',\n",
       " 'Plusle',\n",
       " 'Politoed',\n",
       " 'Poliwag',\n",
       " 'Poliwhirl',\n",
       " 'Poliwrath',\n",
       " 'Ponyta',\n",
       " 'Poochyena',\n",
       " 'Porygon',\n",
       " 'Porygon-Z',\n",
       " 'Porygon2',\n",
       " 'Primeape',\n",
       " 'Prinplup',\n",
       " 'Probopass',\n",
       " 'Psyduck',\n",
       " 'Pumpkaboo',\n",
       " 'Pupitar',\n",
       " 'Purrloin',\n",
       " 'Purugly',\n",
       " 'Pyroar',\n",
       " 'Quagsire',\n",
       " 'Quilava',\n",
       " 'Quilladin',\n",
       " 'Qwilfish',\n",
       " 'Raichu',\n",
       " 'Raikou',\n",
       " 'Ralts',\n",
       " 'Rampardos',\n",
       " 'Rapidash',\n",
       " 'Raticate',\n",
       " 'Rattata',\n",
       " 'Rayquaza',\n",
       " 'Regice',\n",
       " 'Regigigas',\n",
       " 'Regirock',\n",
       " 'Registeel',\n",
       " 'Relicanth',\n",
       " 'Remoraid',\n",
       " 'Reshiram',\n",
       " 'Reuniclus',\n",
       " 'Rhydon',\n",
       " 'Rhyhorn',\n",
       " 'Rhyperior',\n",
       " 'Riolu',\n",
       " 'Roggenrola',\n",
       " 'Roselia',\n",
       " 'Roserade',\n",
       " 'Rotom',\n",
       " 'Rufflet',\n",
       " 'Sableye',\n",
       " 'Salamence',\n",
       " 'Samurott',\n",
       " 'Sandile',\n",
       " 'Sandshrew',\n",
       " 'Sandslash',\n",
       " 'Sawk',\n",
       " 'Sawsbuck',\n",
       " 'Scatterbug',\n",
       " 'Sceptile',\n",
       " 'Scizor',\n",
       " 'Scolipede',\n",
       " 'Scrafty',\n",
       " 'Scraggy',\n",
       " 'Scyther',\n",
       " 'Seadra',\n",
       " 'Seaking',\n",
       " 'Sealeo',\n",
       " 'Seedot',\n",
       " 'Seel',\n",
       " 'Seismitoad',\n",
       " 'Sentret',\n",
       " 'Serperior',\n",
       " 'Servine',\n",
       " 'Seviper',\n",
       " 'Sewaddle',\n",
       " 'Sharpedo',\n",
       " 'Shaymin',\n",
       " 'Shedinja',\n",
       " 'Shelgon',\n",
       " 'Shellder',\n",
       " 'Shellos',\n",
       " 'Shelmet',\n",
       " 'Shieldon',\n",
       " 'Shiftry',\n",
       " 'Shinx',\n",
       " 'Shroomish',\n",
       " 'Shuckle',\n",
       " 'Shuppet',\n",
       " 'Sigilyph',\n",
       " 'Silcoon',\n",
       " 'Simipour',\n",
       " 'Simisage',\n",
       " 'Simisear',\n",
       " 'Skarmory',\n",
       " 'Skiddo',\n",
       " 'Skiploom',\n",
       " 'Skitty',\n",
       " 'Skorupi',\n",
       " 'Skrelp',\n",
       " 'Skuntank',\n",
       " 'Slaking',\n",
       " 'Slakoth',\n",
       " 'Sliggoo',\n",
       " 'Slowbro',\n",
       " 'Slowking',\n",
       " 'Slowpoke',\n",
       " 'Slugma',\n",
       " 'Slurpuff',\n",
       " 'Smeargle',\n",
       " 'Smoochum',\n",
       " 'Sneasel',\n",
       " 'Snivy',\n",
       " 'Snorlax',\n",
       " 'Snorunt',\n",
       " 'Snover',\n",
       " 'Snubbull',\n",
       " 'Solosis',\n",
       " 'Solrock',\n",
       " 'Spearow',\n",
       " 'Spewpa',\n",
       " 'Spheal',\n",
       " 'Spinarak',\n",
       " 'Spinda',\n",
       " 'Spiritomb',\n",
       " 'Spoink',\n",
       " 'Spritzee',\n",
       " 'Squirtle',\n",
       " 'Stantler',\n",
       " 'Staraptor',\n",
       " 'Staravia',\n",
       " 'Starly',\n",
       " 'Starmie',\n",
       " 'Staryu',\n",
       " 'Steelix',\n",
       " 'Stoutland',\n",
       " 'Stunfisk',\n",
       " 'Stunky',\n",
       " 'Sudowoodo',\n",
       " 'Suicune',\n",
       " 'Sunflora',\n",
       " 'Sunkern',\n",
       " 'Surskit',\n",
       " 'Swablu',\n",
       " 'Swadloon',\n",
       " 'Swalot',\n",
       " 'Swampert',\n",
       " 'Swanna',\n",
       " 'Swellow',\n",
       " 'Swinub',\n",
       " 'Swirlix',\n",
       " 'Swoobat',\n",
       " 'Sylveon',\n",
       " 'Taillow',\n",
       " 'Talonflame',\n",
       " 'Tangela',\n",
       " 'Tangrowth',\n",
       " 'Tauros',\n",
       " 'Teddiursa',\n",
       " 'Tentacool',\n",
       " 'Tentacruel',\n",
       " 'Tepig',\n",
       " 'Terrakion',\n",
       " 'Throh',\n",
       " 'Thundurus',\n",
       " 'Timburr',\n",
       " 'Tirtouga',\n",
       " 'Togekiss',\n",
       " 'Togepi',\n",
       " 'Togetic',\n",
       " 'Torchic',\n",
       " 'Torkoal',\n",
       " 'Tornadus',\n",
       " 'Torterra',\n",
       " 'Totodile',\n",
       " 'Toxicroak',\n",
       " 'Tranquill',\n",
       " 'Trapinch',\n",
       " 'Treecko',\n",
       " 'Trevenant',\n",
       " 'Tropius',\n",
       " 'Trubbish',\n",
       " 'Turtwig',\n",
       " 'Tympole',\n",
       " 'Tynamo',\n",
       " 'Typhlosion',\n",
       " 'Tyranitar',\n",
       " 'Tyrantrum',\n",
       " 'Tyrogue',\n",
       " 'Tyrunt',\n",
       " 'Umbreon',\n",
       " 'Unfezant',\n",
       " 'Unown',\n",
       " 'Ursaring',\n",
       " 'Uxie',\n",
       " 'Vanillish',\n",
       " 'Vanillite',\n",
       " 'Vanilluxe',\n",
       " 'Vaporeon',\n",
       " 'Venipede',\n",
       " 'Venomoth',\n",
       " 'Venonat',\n",
       " 'Venusaur',\n",
       " 'Vespiquen',\n",
       " 'Vibrava',\n",
       " 'Victini',\n",
       " 'Victreebel',\n",
       " 'Vigoroth',\n",
       " 'Vileplume',\n",
       " 'Virizion',\n",
       " 'Vivillon',\n",
       " 'Volbeat',\n",
       " 'Volcanion',\n",
       " 'Volcarona',\n",
       " 'Voltorb',\n",
       " 'Vullaby',\n",
       " 'Vulpix',\n",
       " 'Wailmer',\n",
       " 'Wailord',\n",
       " 'Walrein',\n",
       " 'Wartortle',\n",
       " 'Watchog',\n",
       " 'Weavile',\n",
       " 'Weedle',\n",
       " 'Weepinbell',\n",
       " 'Weezing',\n",
       " 'Whimsicott',\n",
       " 'Whirlipede',\n",
       " 'Whiscash',\n",
       " 'Whismur',\n",
       " 'Wigglytuff',\n",
       " 'Wingull',\n",
       " 'Wobbuffet',\n",
       " 'Woobat',\n",
       " 'Wooper',\n",
       " 'Wormadam',\n",
       " 'Wurmple',\n",
       " 'Wynaut',\n",
       " 'Xatu',\n",
       " 'Xerneas',\n",
       " 'Yamask',\n",
       " 'Yanma',\n",
       " 'Yanmega',\n",
       " 'Yveltal',\n",
       " 'Zangoose',\n",
       " 'Zapdos',\n",
       " 'Zebstrika',\n",
       " 'Zekrom',\n",
       " 'Zigzagoon',\n",
       " 'Zoroark',\n",
       " 'Zorua',\n",
       " 'Zubat',\n",
       " 'Zweilous',\n",
       " 'Zygarde']"
      ]
     },
     "execution_count": 68,
     "metadata": {},
     "output_type": "execute_result"
    }
   ],
   "source": [
    "# sort\n",
    "# see also :\n",
    "# pokemon.sort_values, pokemon.sort_index\n",
    "\n",
    "sorted(pokemon)"
   ]
  },
  {
   "cell_type": "code",
   "execution_count": 69,
   "metadata": {},
   "outputs": [
    {
     "data": {
      "text/plain": [
       "{0: 'Bulbasaur',\n",
       " 1: 'Ivysaur',\n",
       " 2: 'Venusaur',\n",
       " 3: 'Charmander',\n",
       " 4: 'Charmeleon',\n",
       " 5: 'Charizard',\n",
       " 6: 'Squirtle',\n",
       " 7: 'Wartortle',\n",
       " 8: 'Blastoise',\n",
       " 9: 'Caterpie',\n",
       " 10: 'Metapod',\n",
       " 11: 'Butterfree',\n",
       " 12: 'Weedle',\n",
       " 13: 'Kakuna',\n",
       " 14: 'Beedrill',\n",
       " 15: 'Pidgey',\n",
       " 16: 'Pidgeotto',\n",
       " 17: 'Pidgeot',\n",
       " 18: 'Rattata',\n",
       " 19: 'Raticate',\n",
       " 20: 'Spearow',\n",
       " 21: 'Fearow',\n",
       " 22: 'Ekans',\n",
       " 23: 'Arbok',\n",
       " 24: 'Pikachu',\n",
       " 25: 'Raichu',\n",
       " 26: 'Sandshrew',\n",
       " 27: 'Sandslash',\n",
       " 28: 'Nidoran',\n",
       " 29: 'Nidorina',\n",
       " 30: 'Nidoqueen',\n",
       " 31: 'Nidoran♂',\n",
       " 32: 'Nidorino',\n",
       " 33: 'Nidoking',\n",
       " 34: 'Clefairy',\n",
       " 35: 'Clefable',\n",
       " 36: 'Vulpix',\n",
       " 37: 'Ninetales',\n",
       " 38: 'Jigglypuff',\n",
       " 39: 'Wigglytuff',\n",
       " 40: 'Zubat',\n",
       " 41: 'Golbat',\n",
       " 42: 'Oddish',\n",
       " 43: 'Gloom',\n",
       " 44: 'Vileplume',\n",
       " 45: 'Paras',\n",
       " 46: 'Parasect',\n",
       " 47: 'Venonat',\n",
       " 48: 'Venomoth',\n",
       " 49: 'Diglett',\n",
       " 50: 'Dugtrio',\n",
       " 51: 'Meowth',\n",
       " 52: 'Persian',\n",
       " 53: 'Psyduck',\n",
       " 54: 'Golduck',\n",
       " 55: 'Mankey',\n",
       " 56: 'Primeape',\n",
       " 57: 'Growlithe',\n",
       " 58: 'Arcanine',\n",
       " 59: 'Poliwag',\n",
       " 60: 'Poliwhirl',\n",
       " 61: 'Poliwrath',\n",
       " 62: 'Abra',\n",
       " 63: 'Kadabra',\n",
       " 64: 'Alakazam',\n",
       " 65: 'Machop',\n",
       " 66: 'Machoke',\n",
       " 67: 'Machamp',\n",
       " 68: 'Bellsprout',\n",
       " 69: 'Weepinbell',\n",
       " 70: 'Victreebel',\n",
       " 71: 'Tentacool',\n",
       " 72: 'Tentacruel',\n",
       " 73: 'Geodude',\n",
       " 74: 'Graveler',\n",
       " 75: 'Golem',\n",
       " 76: 'Ponyta',\n",
       " 77: 'Rapidash',\n",
       " 78: 'Slowpoke',\n",
       " 79: 'Slowbro',\n",
       " 80: 'Magnemite',\n",
       " 81: 'Magneton',\n",
       " 82: \"Farfetch'd\",\n",
       " 83: 'Doduo',\n",
       " 84: 'Dodrio',\n",
       " 85: 'Seel',\n",
       " 86: 'Dewgong',\n",
       " 87: 'Grimer',\n",
       " 88: 'Muk',\n",
       " 89: 'Shellder',\n",
       " 90: 'Cloyster',\n",
       " 91: 'Gastly',\n",
       " 92: 'Haunter',\n",
       " 93: 'Gengar',\n",
       " 94: 'Onix',\n",
       " 95: 'Drowzee',\n",
       " 96: 'Hypno',\n",
       " 97: 'Krabby',\n",
       " 98: 'Kingler',\n",
       " 99: 'Voltorb',\n",
       " 100: 'Electrode',\n",
       " 101: 'Exeggcute',\n",
       " 102: 'Exeggutor',\n",
       " 103: 'Cubone',\n",
       " 104: 'Marowak',\n",
       " 105: 'Hitmonlee',\n",
       " 106: 'Hitmonchan',\n",
       " 107: 'Lickitung',\n",
       " 108: 'Koffing',\n",
       " 109: 'Weezing',\n",
       " 110: 'Rhyhorn',\n",
       " 111: 'Rhydon',\n",
       " 112: 'Chansey',\n",
       " 113: 'Tangela',\n",
       " 114: 'Kangaskhan',\n",
       " 115: 'Horsea',\n",
       " 116: 'Seadra',\n",
       " 117: 'Goldeen',\n",
       " 118: 'Seaking',\n",
       " 119: 'Staryu',\n",
       " 120: 'Starmie',\n",
       " 121: 'Mr. Mime',\n",
       " 122: 'Scyther',\n",
       " 123: 'Jynx',\n",
       " 124: 'Electabuzz',\n",
       " 125: 'Magmar',\n",
       " 126: 'Pinsir',\n",
       " 127: 'Tauros',\n",
       " 128: 'Magikarp',\n",
       " 129: 'Gyarados',\n",
       " 130: 'Lapras',\n",
       " 131: 'Ditto',\n",
       " 132: 'Eevee',\n",
       " 133: 'Vaporeon',\n",
       " 134: 'Jolteon',\n",
       " 135: 'Flareon',\n",
       " 136: 'Porygon',\n",
       " 137: 'Omanyte',\n",
       " 138: 'Omastar',\n",
       " 139: 'Kabuto',\n",
       " 140: 'Kabutops',\n",
       " 141: 'Aerodactyl',\n",
       " 142: 'Snorlax',\n",
       " 143: 'Articuno',\n",
       " 144: 'Zapdos',\n",
       " 145: 'Moltres',\n",
       " 146: 'Dratini',\n",
       " 147: 'Dragonair',\n",
       " 148: 'Dragonite',\n",
       " 149: 'Mewtwo',\n",
       " 150: 'Mew',\n",
       " 151: 'Chikorita',\n",
       " 152: 'Bayleef',\n",
       " 153: 'Meganium',\n",
       " 154: 'Cyndaquil',\n",
       " 155: 'Quilava',\n",
       " 156: 'Typhlosion',\n",
       " 157: 'Totodile',\n",
       " 158: 'Croconaw',\n",
       " 159: 'Feraligatr',\n",
       " 160: 'Sentret',\n",
       " 161: 'Furret',\n",
       " 162: 'Hoothoot',\n",
       " 163: 'Noctowl',\n",
       " 164: 'Ledyba',\n",
       " 165: 'Ledian',\n",
       " 166: 'Spinarak',\n",
       " 167: 'Ariados',\n",
       " 168: 'Crobat',\n",
       " 169: 'Chinchou',\n",
       " 170: 'Lanturn',\n",
       " 171: 'Pichu',\n",
       " 172: 'Cleffa',\n",
       " 173: 'Igglybuff',\n",
       " 174: 'Togepi',\n",
       " 175: 'Togetic',\n",
       " 176: 'Natu',\n",
       " 177: 'Xatu',\n",
       " 178: 'Mareep',\n",
       " 179: 'Flaaffy',\n",
       " 180: 'Ampharos',\n",
       " 181: 'Bellossom',\n",
       " 182: 'Marill',\n",
       " 183: 'Azumarill',\n",
       " 184: 'Sudowoodo',\n",
       " 185: 'Politoed',\n",
       " 186: 'Hoppip',\n",
       " 187: 'Skiploom',\n",
       " 188: 'Jumpluff',\n",
       " 189: 'Aipom',\n",
       " 190: 'Sunkern',\n",
       " 191: 'Sunflora',\n",
       " 192: 'Yanma',\n",
       " 193: 'Wooper',\n",
       " 194: 'Quagsire',\n",
       " 195: 'Espeon',\n",
       " 196: 'Umbreon',\n",
       " 197: 'Murkrow',\n",
       " 198: 'Slowking',\n",
       " 199: 'Misdreavus',\n",
       " 200: 'Unown',\n",
       " 201: 'Wobbuffet',\n",
       " 202: 'Girafarig',\n",
       " 203: 'Pineco',\n",
       " 204: 'Forretress',\n",
       " 205: 'Dunsparce',\n",
       " 206: 'Gligar',\n",
       " 207: 'Steelix',\n",
       " 208: 'Snubbull',\n",
       " 209: 'Granbull',\n",
       " 210: 'Qwilfish',\n",
       " 211: 'Scizor',\n",
       " 212: 'Shuckle',\n",
       " 213: 'Heracross',\n",
       " 214: 'Sneasel',\n",
       " 215: 'Teddiursa',\n",
       " 216: 'Ursaring',\n",
       " 217: 'Slugma',\n",
       " 218: 'Magcargo',\n",
       " 219: 'Swinub',\n",
       " 220: 'Piloswine',\n",
       " 221: 'Corsola',\n",
       " 222: 'Remoraid',\n",
       " 223: 'Octillery',\n",
       " 224: 'Delibird',\n",
       " 225: 'Mantine',\n",
       " 226: 'Skarmory',\n",
       " 227: 'Houndour',\n",
       " 228: 'Houndoom',\n",
       " 229: 'Kingdra',\n",
       " 230: 'Phanpy',\n",
       " 231: 'Donphan',\n",
       " 232: 'Porygon2',\n",
       " 233: 'Stantler',\n",
       " 234: 'Smeargle',\n",
       " 235: 'Tyrogue',\n",
       " 236: 'Hitmontop',\n",
       " 237: 'Smoochum',\n",
       " 238: 'Elekid',\n",
       " 239: 'Magby',\n",
       " 240: 'Miltank',\n",
       " 241: 'Blissey',\n",
       " 242: 'Raikou',\n",
       " 243: 'Entei',\n",
       " 244: 'Suicune',\n",
       " 245: 'Larvitar',\n",
       " 246: 'Pupitar',\n",
       " 247: 'Tyranitar',\n",
       " 248: 'Lugia',\n",
       " 249: 'Ho-oh',\n",
       " 250: 'Celebi',\n",
       " 251: 'Treecko',\n",
       " 252: 'Grovyle',\n",
       " 253: 'Sceptile',\n",
       " 254: 'Torchic',\n",
       " 255: 'Combusken',\n",
       " 256: 'Blaziken',\n",
       " 257: 'Mudkip',\n",
       " 258: 'Marshtomp',\n",
       " 259: 'Swampert',\n",
       " 260: 'Poochyena',\n",
       " 261: 'Mightyena',\n",
       " 262: 'Zigzagoon',\n",
       " 263: 'Linoone',\n",
       " 264: 'Wurmple',\n",
       " 265: 'Silcoon',\n",
       " 266: 'Beautifly',\n",
       " 267: 'Cascoon',\n",
       " 268: 'Dustox',\n",
       " 269: 'Lotad',\n",
       " 270: 'Lombre',\n",
       " 271: 'Ludicolo',\n",
       " 272: 'Seedot',\n",
       " 273: 'Nuzleaf',\n",
       " 274: 'Shiftry',\n",
       " 275: 'Taillow',\n",
       " 276: 'Swellow',\n",
       " 277: 'Wingull',\n",
       " 278: 'Pelipper',\n",
       " 279: 'Ralts',\n",
       " 280: 'Kirlia',\n",
       " 281: 'Gardevoir',\n",
       " 282: 'Surskit',\n",
       " 283: 'Masquerain',\n",
       " 284: 'Shroomish',\n",
       " 285: 'Breloom',\n",
       " 286: 'Slakoth',\n",
       " 287: 'Vigoroth',\n",
       " 288: 'Slaking',\n",
       " 289: 'Nincada',\n",
       " 290: 'Ninjask',\n",
       " 291: 'Shedinja',\n",
       " 292: 'Whismur',\n",
       " 293: 'Loudred',\n",
       " 294: 'Exploud',\n",
       " 295: 'Makuhita',\n",
       " 296: 'Hariyama',\n",
       " 297: 'Azurill',\n",
       " 298: 'Nosepass',\n",
       " 299: 'Skitty',\n",
       " 300: 'Delcatty',\n",
       " 301: 'Sableye',\n",
       " 302: 'Mawile',\n",
       " 303: 'Aron',\n",
       " 304: 'Lairon',\n",
       " 305: 'Aggron',\n",
       " 306: 'Meditite',\n",
       " 307: 'Medicham',\n",
       " 308: 'Electrike',\n",
       " 309: 'Manectric',\n",
       " 310: 'Plusle',\n",
       " 311: 'Minun',\n",
       " 312: 'Volbeat',\n",
       " 313: 'Illumise',\n",
       " 314: 'Roselia',\n",
       " 315: 'Gulpin',\n",
       " 316: 'Swalot',\n",
       " 317: 'Carvanha',\n",
       " 318: 'Sharpedo',\n",
       " 319: 'Wailmer',\n",
       " 320: 'Wailord',\n",
       " 321: 'Numel',\n",
       " 322: 'Camerupt',\n",
       " 323: 'Torkoal',\n",
       " 324: 'Spoink',\n",
       " 325: 'Grumpig',\n",
       " 326: 'Spinda',\n",
       " 327: 'Trapinch',\n",
       " 328: 'Vibrava',\n",
       " 329: 'Flygon',\n",
       " 330: 'Cacnea',\n",
       " 331: 'Cacturne',\n",
       " 332: 'Swablu',\n",
       " 333: 'Altaria',\n",
       " 334: 'Zangoose',\n",
       " 335: 'Seviper',\n",
       " 336: 'Lunatone',\n",
       " 337: 'Solrock',\n",
       " 338: 'Barboach',\n",
       " 339: 'Whiscash',\n",
       " 340: 'Corphish',\n",
       " 341: 'Crawdaunt',\n",
       " 342: 'Baltoy',\n",
       " 343: 'Claydol',\n",
       " 344: 'Lileep',\n",
       " 345: 'Cradily',\n",
       " 346: 'Anorith',\n",
       " 347: 'Armaldo',\n",
       " 348: 'Feebas',\n",
       " 349: 'Milotic',\n",
       " 350: 'Castform',\n",
       " 351: 'Kecleon',\n",
       " 352: 'Shuppet',\n",
       " 353: 'Banette',\n",
       " 354: 'Duskull',\n",
       " 355: 'Dusclops',\n",
       " 356: 'Tropius',\n",
       " 357: 'Chimecho',\n",
       " 358: 'Absol',\n",
       " 359: 'Wynaut',\n",
       " 360: 'Snorunt',\n",
       " 361: 'Glalie',\n",
       " 362: 'Spheal',\n",
       " 363: 'Sealeo',\n",
       " 364: 'Walrein',\n",
       " 365: 'Clamperl',\n",
       " 366: 'Huntail',\n",
       " 367: 'Gorebyss',\n",
       " 368: 'Relicanth',\n",
       " 369: 'Luvdisc',\n",
       " 370: 'Bagon',\n",
       " 371: 'Shelgon',\n",
       " 372: 'Salamence',\n",
       " 373: 'Beldum',\n",
       " 374: 'Metang',\n",
       " 375: 'Metagross',\n",
       " 376: 'Regirock',\n",
       " 377: 'Regice',\n",
       " 378: 'Registeel',\n",
       " 379: 'Latias',\n",
       " 380: 'Latios',\n",
       " 381: 'Kyogre',\n",
       " 382: 'Groudon',\n",
       " 383: 'Rayquaza',\n",
       " 384: 'Jirachi',\n",
       " 385: 'Deoxys',\n",
       " 386: 'Turtwig',\n",
       " 387: 'Grotle',\n",
       " 388: 'Torterra',\n",
       " 389: 'Chimchar',\n",
       " 390: 'Monferno',\n",
       " 391: 'Infernape',\n",
       " 392: 'Piplup',\n",
       " 393: 'Prinplup',\n",
       " 394: 'Empoleon',\n",
       " 395: 'Starly',\n",
       " 396: 'Staravia',\n",
       " 397: 'Staraptor',\n",
       " 398: 'Bidoof',\n",
       " 399: 'Bibarel',\n",
       " 400: 'Kricketot',\n",
       " 401: 'Kricketune',\n",
       " 402: 'Shinx',\n",
       " 403: 'Luxio',\n",
       " 404: 'Luxray',\n",
       " 405: 'Budew',\n",
       " 406: 'Roserade',\n",
       " 407: 'Cranidos',\n",
       " 408: 'Rampardos',\n",
       " 409: 'Shieldon',\n",
       " 410: 'Bastiodon',\n",
       " 411: 'Burmy',\n",
       " 412: 'Wormadam',\n",
       " 413: 'Mothim',\n",
       " 414: 'Combee',\n",
       " 415: 'Vespiquen',\n",
       " 416: 'Pachirisu',\n",
       " 417: 'Buizel',\n",
       " 418: 'Floatzel',\n",
       " 419: 'Cherubi',\n",
       " 420: 'Cherrim',\n",
       " 421: 'Shellos',\n",
       " 422: 'Gastrodon',\n",
       " 423: 'Ambipom',\n",
       " 424: 'Drifloon',\n",
       " 425: 'Drifblim',\n",
       " 426: 'Buneary',\n",
       " 427: 'Lopunny',\n",
       " 428: 'Mismagius',\n",
       " 429: 'Honchkrow',\n",
       " 430: 'Glameow',\n",
       " 431: 'Purugly',\n",
       " 432: 'Chingling',\n",
       " 433: 'Stunky',\n",
       " 434: 'Skuntank',\n",
       " 435: 'Bronzor',\n",
       " 436: 'Bronzong',\n",
       " 437: 'Bonsly',\n",
       " 438: 'Mime Jr.',\n",
       " 439: 'Happiny',\n",
       " 440: 'Chatot',\n",
       " 441: 'Spiritomb',\n",
       " 442: 'Gible',\n",
       " 443: 'Gabite',\n",
       " 444: 'Garchomp',\n",
       " 445: 'Munchlax',\n",
       " 446: 'Riolu',\n",
       " 447: 'Lucario',\n",
       " 448: 'Hippopotas',\n",
       " 449: 'Hippowdon',\n",
       " 450: 'Skorupi',\n",
       " 451: 'Drapion',\n",
       " 452: 'Croagunk',\n",
       " 453: 'Toxicroak',\n",
       " 454: 'Carnivine',\n",
       " 455: 'Finneon',\n",
       " 456: 'Lumineon',\n",
       " 457: 'Mantyke',\n",
       " 458: 'Snover',\n",
       " 459: 'Abomasnow',\n",
       " 460: 'Weavile',\n",
       " 461: 'Magnezone',\n",
       " 462: 'Lickilicky',\n",
       " 463: 'Rhyperior',\n",
       " 464: 'Tangrowth',\n",
       " 465: 'Electivire',\n",
       " 466: 'Magmortar',\n",
       " 467: 'Togekiss',\n",
       " 468: 'Yanmega',\n",
       " 469: 'Leafeon',\n",
       " 470: 'Glaceon',\n",
       " 471: 'Gliscor',\n",
       " 472: 'Mamoswine',\n",
       " 473: 'Porygon-Z',\n",
       " 474: 'Gallade',\n",
       " 475: 'Probopass',\n",
       " 476: 'Dusknoir',\n",
       " 477: 'Froslass',\n",
       " 478: 'Rotom',\n",
       " 479: 'Uxie',\n",
       " 480: 'Mesprit',\n",
       " 481: 'Azelf',\n",
       " 482: 'Dialga',\n",
       " 483: 'Palkia',\n",
       " 484: 'Heatran',\n",
       " 485: 'Regigigas',\n",
       " 486: 'Giratina',\n",
       " 487: 'Cresselia',\n",
       " 488: 'Phione',\n",
       " 489: 'Manaphy',\n",
       " 490: 'Darkrai',\n",
       " 491: 'Shaymin',\n",
       " 492: 'Arceus',\n",
       " 493: 'Victini',\n",
       " 494: 'Snivy',\n",
       " 495: 'Servine',\n",
       " 496: 'Serperior',\n",
       " 497: 'Tepig',\n",
       " 498: 'Pignite',\n",
       " 499: 'Emboar',\n",
       " 500: 'Oshawott',\n",
       " 501: 'Dewott',\n",
       " 502: 'Samurott',\n",
       " 503: 'Patrat',\n",
       " 504: 'Watchog',\n",
       " 505: 'Lillipup',\n",
       " 506: 'Herdier',\n",
       " 507: 'Stoutland',\n",
       " 508: 'Purrloin',\n",
       " 509: 'Liepard',\n",
       " 510: 'Pansage',\n",
       " 511: 'Simisage',\n",
       " 512: 'Pansear',\n",
       " 513: 'Simisear',\n",
       " 514: 'Panpour',\n",
       " 515: 'Simipour',\n",
       " 516: 'Munna',\n",
       " 517: 'Musharna',\n",
       " 518: 'Pidove',\n",
       " 519: 'Tranquill',\n",
       " 520: 'Unfezant',\n",
       " 521: 'Blitzle',\n",
       " 522: 'Zebstrika',\n",
       " 523: 'Roggenrola',\n",
       " 524: 'Boldore',\n",
       " 525: 'Gigalith',\n",
       " 526: 'Woobat',\n",
       " 527: 'Swoobat',\n",
       " 528: 'Drilbur',\n",
       " 529: 'Excadrill',\n",
       " 530: 'Audino',\n",
       " 531: 'Timburr',\n",
       " 532: 'Gurdurr',\n",
       " 533: 'Conkeldurr',\n",
       " 534: 'Tympole',\n",
       " 535: 'Palpitoad',\n",
       " 536: 'Seismitoad',\n",
       " 537: 'Throh',\n",
       " 538: 'Sawk',\n",
       " 539: 'Sewaddle',\n",
       " 540: 'Swadloon',\n",
       " 541: 'Leavanny',\n",
       " 542: 'Venipede',\n",
       " 543: 'Whirlipede',\n",
       " 544: 'Scolipede',\n",
       " 545: 'Cottonee',\n",
       " 546: 'Whimsicott',\n",
       " 547: 'Petilil',\n",
       " 548: 'Lilligant',\n",
       " 549: 'Basculin',\n",
       " 550: 'Sandile',\n",
       " 551: 'Krokorok',\n",
       " 552: 'Krookodile',\n",
       " 553: 'Darumaka',\n",
       " 554: 'Darmanitan',\n",
       " 555: 'Maractus',\n",
       " 556: 'Dwebble',\n",
       " 557: 'Crustle',\n",
       " 558: 'Scraggy',\n",
       " 559: 'Scrafty',\n",
       " 560: 'Sigilyph',\n",
       " 561: 'Yamask',\n",
       " 562: 'Cofagrigus',\n",
       " 563: 'Tirtouga',\n",
       " 564: 'Carracosta',\n",
       " 565: 'Archen',\n",
       " 566: 'Archeops',\n",
       " 567: 'Trubbish',\n",
       " 568: 'Garbodor',\n",
       " 569: 'Zorua',\n",
       " 570: 'Zoroark',\n",
       " 571: 'Minccino',\n",
       " 572: 'Cinccino',\n",
       " 573: 'Gothita',\n",
       " 574: 'Gothorita',\n",
       " 575: 'Gothitelle',\n",
       " 576: 'Solosis',\n",
       " 577: 'Duosion',\n",
       " 578: 'Reuniclus',\n",
       " 579: 'Ducklett',\n",
       " 580: 'Swanna',\n",
       " 581: 'Vanillite',\n",
       " 582: 'Vanillish',\n",
       " 583: 'Vanilluxe',\n",
       " 584: 'Deerling',\n",
       " 585: 'Sawsbuck',\n",
       " 586: 'Emolga',\n",
       " 587: 'Karrablast',\n",
       " 588: 'Escavalier',\n",
       " 589: 'Foongus',\n",
       " 590: 'Amoonguss',\n",
       " 591: 'Frillish',\n",
       " 592: 'Jellicent',\n",
       " 593: 'Alomomola',\n",
       " 594: 'Joltik',\n",
       " 595: 'Galvantula',\n",
       " 596: 'Ferroseed',\n",
       " 597: 'Ferrothorn',\n",
       " 598: 'Klink',\n",
       " 599: 'Klang',\n",
       " 600: 'Klinklang',\n",
       " 601: 'Tynamo',\n",
       " 602: 'Eelektrik',\n",
       " 603: 'Eelektross',\n",
       " 604: 'Elgyem',\n",
       " 605: 'Beheeyem',\n",
       " 606: 'Litwick',\n",
       " 607: 'Lampent',\n",
       " 608: 'Chandelure',\n",
       " 609: 'Axew',\n",
       " 610: 'Fraxure',\n",
       " 611: 'Haxorus',\n",
       " 612: 'Cubchoo',\n",
       " 613: 'Beartic',\n",
       " 614: 'Cryogonal',\n",
       " 615: 'Shelmet',\n",
       " 616: 'Accelgor',\n",
       " 617: 'Stunfisk',\n",
       " 618: 'Mienfoo',\n",
       " 619: 'Mienshao',\n",
       " 620: 'Druddigon',\n",
       " 621: 'Golett',\n",
       " 622: 'Golurk',\n",
       " 623: 'Pawniard',\n",
       " 624: 'Bisharp',\n",
       " 625: 'Bouffalant',\n",
       " 626: 'Rufflet',\n",
       " 627: 'Braviary',\n",
       " 628: 'Vullaby',\n",
       " 629: 'Mandibuzz',\n",
       " 630: 'Heatmor',\n",
       " 631: 'Durant',\n",
       " 632: 'Deino',\n",
       " 633: 'Zweilous',\n",
       " 634: 'Hydreigon',\n",
       " 635: 'Larvesta',\n",
       " 636: 'Volcarona',\n",
       " 637: 'Cobalion',\n",
       " 638: 'Terrakion',\n",
       " 639: 'Virizion',\n",
       " 640: 'Tornadus',\n",
       " 641: 'Thundurus',\n",
       " 642: 'Reshiram',\n",
       " 643: 'Zekrom',\n",
       " 644: 'Landorus',\n",
       " 645: 'Kyurem',\n",
       " 646: 'Keldeo',\n",
       " 647: 'Meloetta',\n",
       " 648: 'Genesect',\n",
       " 649: 'Chespin',\n",
       " 650: 'Quilladin',\n",
       " 651: 'Chesnaught',\n",
       " 652: 'Fennekin',\n",
       " 653: 'Braixen',\n",
       " 654: 'Delphox',\n",
       " 655: 'Froakie',\n",
       " 656: 'Frogadier',\n",
       " 657: 'Greninja',\n",
       " 658: 'Bunnelby',\n",
       " 659: 'Diggersby',\n",
       " 660: 'Fletchling',\n",
       " 661: 'Fletchinder',\n",
       " 662: 'Talonflame',\n",
       " 663: 'Scatterbug',\n",
       " 664: 'Spewpa',\n",
       " 665: 'Vivillon',\n",
       " 666: 'Litleo',\n",
       " 667: 'Pyroar',\n",
       " 668: 'Flabébé',\n",
       " 669: 'Floette',\n",
       " 670: 'Florges',\n",
       " 671: 'Skiddo',\n",
       " 672: 'Gogoat',\n",
       " 673: 'Pancham',\n",
       " 674: 'Pangoro',\n",
       " 675: 'Furfrou',\n",
       " 676: 'Espurr',\n",
       " 677: 'Meowstic',\n",
       " 678: 'Honedge',\n",
       " 679: 'Doublade',\n",
       " 680: 'Aegislash',\n",
       " 681: 'Spritzee',\n",
       " 682: 'Aromatisse',\n",
       " 683: 'Swirlix',\n",
       " 684: 'Slurpuff',\n",
       " 685: 'Inkay',\n",
       " 686: 'Malamar',\n",
       " 687: 'Binacle',\n",
       " 688: 'Barbaracle',\n",
       " 689: 'Skrelp',\n",
       " 690: 'Dragalge',\n",
       " 691: 'Clauncher',\n",
       " 692: 'Clawitzer',\n",
       " 693: 'Helioptile',\n",
       " 694: 'Heliolisk',\n",
       " 695: 'Tyrunt',\n",
       " 696: 'Tyrantrum',\n",
       " 697: 'Amaura',\n",
       " 698: 'Aurorus',\n",
       " 699: 'Sylveon',\n",
       " 700: 'Hawlucha',\n",
       " 701: 'Dedenne',\n",
       " 702: 'Carbink',\n",
       " 703: 'Goomy',\n",
       " 704: 'Sliggoo',\n",
       " 705: 'Goodra',\n",
       " 706: 'Klefki',\n",
       " 707: 'Phantump',\n",
       " 708: 'Trevenant',\n",
       " 709: 'Pumpkaboo',\n",
       " 710: 'Gourgeist',\n",
       " 711: 'Bergmite',\n",
       " 712: 'Avalugg',\n",
       " 713: 'Noibat',\n",
       " 714: 'Noivern',\n",
       " 715: 'Xerneas',\n",
       " 716: 'Yveltal',\n",
       " 717: 'Zygarde',\n",
       " 718: 'Diancie',\n",
       " 719: 'Hoopa',\n",
       " 720: 'Volcanion'}"
      ]
     },
     "execution_count": 69,
     "metadata": {},
     "output_type": "execute_result"
    }
   ],
   "source": [
    "# convert to a list or to a dict\n",
    "list(pokemon)\n",
    "dict(pokemon)"
   ]
  },
  {
   "cell_type": "code",
   "execution_count": 71,
   "metadata": {},
   "outputs": [
    {
     "data": {
      "text/plain": [
       "'Zygarde'"
      ]
     },
     "execution_count": 71,
     "metadata": {},
     "output_type": "execute_result"
    }
   ],
   "source": [
    "# max and min functions\n",
    "max(pokemon)"
   ]
  },
  {
   "cell_type": "code",
   "execution_count": 73,
   "metadata": {},
   "outputs": [
    {
     "data": {
      "text/plain": [
       "49.95"
      ]
     },
     "execution_count": 73,
     "metadata": {},
     "output_type": "execute_result"
    }
   ],
   "source": [
    "# min function\n",
    "\n",
    "min(google)"
   ]
  },
  {
   "cell_type": "markdown",
   "metadata": {},
   "source": [
    "### 9. Additional Attributes"
   ]
  },
  {
   "cell_type": "code",
   "execution_count": 74,
   "metadata": {},
   "outputs": [
    {
     "data": {
      "text/plain": [
       "True"
      ]
     },
     "execution_count": 74,
     "metadata": {},
     "output_type": "execute_result"
    }
   ],
   "source": [
    "# check for unique values\n",
    "\n",
    "pokemon.is_unique"
   ]
  },
  {
   "cell_type": "code",
   "execution_count": 75,
   "metadata": {},
   "outputs": [
    {
     "data": {
      "text/plain": [
       "False"
      ]
     },
     "execution_count": 75,
     "metadata": {},
     "output_type": "execute_result"
    }
   ],
   "source": [
    "google.is_unique"
   ]
  },
  {
   "cell_type": "code",
   "execution_count": 76,
   "metadata": {},
   "outputs": [
    {
     "data": {
      "text/plain": [
       "1"
      ]
     },
     "execution_count": 76,
     "metadata": {},
     "output_type": "execute_result"
    }
   ],
   "source": [
    "# number of dimensions\n",
    "pokemon.ndim"
   ]
  },
  {
   "cell_type": "code",
   "execution_count": 78,
   "metadata": {},
   "outputs": [
    {
     "data": {
      "text/plain": [
       "(721,)"
      ]
     },
     "execution_count": 78,
     "metadata": {},
     "output_type": "execute_result"
    }
   ],
   "source": [
    "# shape (rows x columns)\n",
    "\n",
    "pokemon.shape"
   ]
  },
  {
   "cell_type": "code",
   "execution_count": 79,
   "metadata": {},
   "outputs": [
    {
     "data": {
      "text/plain": [
       "3012"
      ]
     },
     "execution_count": 79,
     "metadata": {},
     "output_type": "execute_result"
    }
   ],
   "source": [
    "# size - counts nulls values\n",
    "\n",
    "google.size"
   ]
  },
  {
   "cell_type": "markdown",
   "metadata": {},
   "source": [
    "### 10. Sort values"
   ]
  },
  {
   "cell_type": "code",
   "execution_count": 87,
   "metadata": {},
   "outputs": [
    {
     "data": {
      "text/plain": [
       "459    Abomasnow\n",
       "62          Abra\n",
       "358        Absol\n",
       "616     Accelgor\n",
       "680    Aegislash\n",
       "Name: Pokemon, dtype: object"
      ]
     },
     "execution_count": 87,
     "metadata": {},
     "output_type": "execute_result"
    }
   ],
   "source": [
    "# sort by pokemon name\n",
    "\n",
    "pokemon.sort_values(ascending = True).head(5)"
   ]
  },
  {
   "cell_type": "markdown",
   "metadata": {},
   "source": [
    "### 11. Inplace operations"
   ]
  },
  {
   "cell_type": "code",
   "execution_count": 91,
   "metadata": {},
   "outputs": [
    {
     "data": {
      "text/plain": [
       "3011    782.22\n",
       "2859    776.60\n",
       "3009    773.18\n",
       "3007    772.88\n",
       "3010    771.61\n",
       "Name: Stock Price, dtype: float64"
      ]
     },
     "execution_count": 91,
     "metadata": {},
     "output_type": "execute_result"
    }
   ],
   "source": [
    "google.sort_values(ascending = False, inplace = True)\n",
    "\n",
    "google.head(5)"
   ]
  },
  {
   "cell_type": "markdown",
   "metadata": {},
   "source": [
    "### 12. Sort Index"
   ]
  },
  {
   "cell_type": "code",
   "execution_count": 99,
   "metadata": {},
   "outputs": [
    {
     "data": {
      "text/plain": [
       "717     Zygarde\n",
       "633    Zweilous\n",
       "40        Zubat\n",
       "569       Zorua\n",
       "570     Zoroark\n",
       "Name: Pokemon, dtype: object"
      ]
     },
     "execution_count": 99,
     "metadata": {},
     "output_type": "execute_result"
    }
   ],
   "source": [
    "pokemon.sort_values(ascending = False, inplace = True)\n",
    "pokemon.head(5)"
   ]
  },
  {
   "cell_type": "code",
   "execution_count": 101,
   "metadata": {},
   "outputs": [
    {
     "data": {
      "text/plain": [
       "0     Bulbasaur\n",
       "1       Ivysaur\n",
       "2      Venusaur\n",
       "3    Charmander\n",
       "4    Charmeleon\n",
       "Name: Pokemon, dtype: object"
      ]
     },
     "execution_count": 101,
     "metadata": {},
     "output_type": "execute_result"
    }
   ],
   "source": [
    "# sort by index put the series in the original shape\n",
    "\n",
    "pokemon.sort_index(ascending = True, inplace=True)\n",
    "pokemon.head(5)"
   ]
  },
  {
   "cell_type": "markdown",
   "metadata": {},
   "source": [
    "### 13. in Keyword"
   ]
  },
  {
   "cell_type": "code",
   "execution_count": 103,
   "metadata": {},
   "outputs": [
    {
     "data": {
      "text/plain": [
       "0    Bulbasaur\n",
       "1      Ivysaur\n",
       "2     Venusaur\n",
       "Name: Pokemon, dtype: object"
      ]
     },
     "execution_count": 103,
     "metadata": {},
     "output_type": "execute_result"
    }
   ],
   "source": [
    "pokemon.head(3)"
   ]
  },
  {
   "cell_type": "code",
   "execution_count": 106,
   "metadata": {},
   "outputs": [
    {
     "data": {
      "text/plain": [
       "False"
      ]
     },
     "execution_count": 106,
     "metadata": {},
     "output_type": "execute_result"
    }
   ],
   "source": [
    "# by default, Pandas look at the index and not for the values\n",
    "\n",
    "\"Bulbasaur\" in pokemon"
   ]
  },
  {
   "cell_type": "code",
   "execution_count": 108,
   "metadata": {},
   "outputs": [
    {
     "data": {
      "text/plain": [
       "True"
      ]
     },
     "execution_count": 108,
     "metadata": {},
     "output_type": "execute_result"
    }
   ],
   "source": [
    "2 in pokemon\n",
    "2 in pokemon.index"
   ]
  },
  {
   "cell_type": "code",
   "execution_count": 109,
   "metadata": {},
   "outputs": [
    {
     "data": {
      "text/plain": [
       "True"
      ]
     },
     "execution_count": 109,
     "metadata": {},
     "output_type": "execute_result"
    }
   ],
   "source": [
    "# in order to solve it, you need to use Series.values method\n",
    "\n",
    "\"Bulbasaur\" in pokemon.values"
   ]
  },
  {
   "cell_type": "markdown",
   "metadata": {},
   "source": [
    "### 14. Extract values by Index Position"
   ]
  },
  {
   "cell_type": "code",
   "execution_count": 111,
   "metadata": {},
   "outputs": [
    {
     "data": {
      "text/plain": [
       "'Metapod'"
      ]
     },
     "execution_count": 111,
     "metadata": {},
     "output_type": "execute_result"
    }
   ],
   "source": [
    "# using bracket \n",
    "\n",
    "pokemon[10]"
   ]
  },
  {
   "cell_type": "code",
   "execution_count": 112,
   "metadata": {},
   "outputs": [
    {
     "data": {
      "text/plain": [
       "100    Electrode\n",
       "200        Unown\n",
       "300     Delcatty\n",
       "Name: Pokemon, dtype: object"
      ]
     },
     "execution_count": 112,
     "metadata": {},
     "output_type": "execute_result"
    }
   ],
   "source": [
    "# using a list\n",
    "\n",
    "pokemon [[100, 200, 300]]"
   ]
  },
  {
   "cell_type": "code",
   "execution_count": 113,
   "metadata": {},
   "outputs": [
    {
     "data": {
      "text/plain": [
       "50    Dugtrio\n",
       "51     Meowth\n",
       "52    Persian\n",
       "53    Psyduck\n",
       "54    Golduck\n",
       "Name: Pokemon, dtype: object"
      ]
     },
     "execution_count": 113,
     "metadata": {},
     "output_type": "execute_result"
    }
   ],
   "source": [
    "# slice\n",
    "\n",
    "pokemon [50:55]"
   ]
  },
  {
   "cell_type": "markdown",
   "metadata": {},
   "source": [
    "### 15. Extract values by Index Label"
   ]
  },
  {
   "cell_type": "code",
   "execution_count": 115,
   "metadata": {},
   "outputs": [
    {
     "data": {
      "text/plain": [
       "Pokemon\n",
       "Bulbasaur     Grass\n",
       "Ivysaur       Grass\n",
       "Venusaur      Grass\n",
       "Charmander     Fire\n",
       "Charmeleon     Fire\n",
       "Name: Type, dtype: object"
      ]
     },
     "execution_count": 115,
     "metadata": {},
     "output_type": "execute_result"
    }
   ],
   "source": [
    "# reloading pokemon series to use a different index first\n",
    "\n",
    "pokemon = pd.read_csv('../resources/pokemon.csv', index_col='Pokemon', squeeze = True)\n",
    "\n",
    "pokemon.head(5)"
   ]
  },
  {
   "cell_type": "code",
   "execution_count": 116,
   "metadata": {},
   "outputs": [
    {
     "data": {
      "text/plain": [
       "'Grass'"
      ]
     },
     "execution_count": 116,
     "metadata": {},
     "output_type": "execute_result"
    }
   ],
   "source": [
    "# even using string index, you still can use the index numeric to extract values\n",
    "\n",
    "pokemon[0]"
   ]
  },
  {
   "cell_type": "code",
   "execution_count": 117,
   "metadata": {},
   "outputs": [
    {
     "data": {
      "text/plain": [
       "'Grass'"
      ]
     },
     "execution_count": 117,
     "metadata": {},
     "output_type": "execute_result"
    }
   ],
   "source": [
    "# using the string value\n",
    "\n",
    "pokemon['Venusaur']"
   ]
  },
  {
   "cell_type": "code",
   "execution_count": 119,
   "metadata": {},
   "outputs": [
    {
     "data": {
      "text/plain": [
       "Pokemon\n",
       "Charmeleon     Fire\n",
       "Ivysaur       Grass\n",
       "Name: Type, dtype: object"
      ]
     },
     "execution_count": 119,
     "metadata": {},
     "output_type": "execute_result"
    }
   ],
   "source": [
    "# using a list to extract values\n",
    "\n",
    "pokemon [['Charmeleon', 'Ivysaur']]"
   ]
  },
  {
   "cell_type": "code",
   "execution_count": 120,
   "metadata": {},
   "outputs": [
    {
     "name": "stderr",
     "output_type": "stream",
     "text": [
      "C:\\Users\\Alexandre\\Anaconda3\\lib\\site-packages\\pandas\\core\\series.py:851: FutureWarning: \n",
      "Passing list-likes to .loc or [] with any missing label will raise\n",
      "KeyError in the future, you can use .reindex() as an alternative.\n",
      "\n",
      "See the documentation here:\n",
      "https://pandas.pydata.org/pandas-docs/stable/indexing.html#deprecate-loc-reindex-listlike\n",
      "  return self.loc[key]\n"
     ]
    },
    {
     "data": {
      "text/plain": [
       "Pokemon\n",
       "Charmeleon          Fire\n",
       "Ivysaur            Grass\n",
       "DOES_NOT_EXISTS      NaN\n",
       "Name: Type, dtype: object"
      ]
     },
     "execution_count": 120,
     "metadata": {},
     "output_type": "execute_result"
    }
   ],
   "source": [
    "# using a list to extract values that does not exists\n",
    "# single values returns an error\n",
    "\n",
    "\n",
    "pokemon [['Charmeleon', 'Ivysaur', 'DOES_NOT_EXISTS']]"
   ]
  },
  {
   "cell_type": "markdown",
   "metadata": {},
   "source": [
    "### 16. Extract values by get method"
   ]
  },
  {
   "cell_type": "code",
   "execution_count": 122,
   "metadata": {},
   "outputs": [
    {
     "data": {
      "text/plain": [
       "Pokemon\n",
       "Abomasnow      Grass\n",
       "Abra         Psychic\n",
       "Absol           Dark\n",
       "Accelgor         Bug\n",
       "Aegislash      Steel\n",
       "Name: Type, dtype: object"
      ]
     },
     "execution_count": 122,
     "metadata": {},
     "output_type": "execute_result"
    }
   ],
   "source": [
    "# always try to keep the index sorted in order to help with performance\n",
    "pokemon.sort_index(inplace=True)\n",
    "pokemon.head(5)"
   ]
  },
  {
   "cell_type": "code",
   "execution_count": 123,
   "metadata": {},
   "outputs": [
    {
     "data": {
      "text/plain": [
       "'Grass'"
      ]
     },
     "execution_count": 123,
     "metadata": {},
     "output_type": "execute_result"
    }
   ],
   "source": [
    "# Using get method\n",
    "pokemon.get('Abomasnow')"
   ]
  },
  {
   "cell_type": "code",
   "execution_count": 125,
   "metadata": {},
   "outputs": [
    {
     "data": {
      "text/plain": [
       "Pokemon\n",
       "Abomasnow    Grass\n",
       "Aegislash    Steel\n",
       "Name: Type, dtype: object"
      ]
     },
     "execution_count": 125,
     "metadata": {},
     "output_type": "execute_result"
    }
   ],
   "source": [
    "# Using a list\n",
    "pokemon.get(['Abomasnow', 'Aegislash'])"
   ]
  },
  {
   "cell_type": "code",
   "execution_count": 129,
   "metadata": {},
   "outputs": [
    {
     "data": {
      "text/plain": [
       "'This is not a pokemon'"
      ]
     },
     "execution_count": 129,
     "metadata": {},
     "output_type": "execute_result"
    }
   ],
   "source": [
    "# Passing a not not valid key\n",
    "# default not found only works for single arguments\n",
    "\n",
    "pokemon.get('NOT_FOUND', default='This is not a pokemon')"
   ]
  },
  {
   "cell_type": "markdown",
   "metadata": {},
   "source": [
    "### 17. Math methods on Series Objects"
   ]
  },
  {
   "cell_type": "code",
   "execution_count": 131,
   "metadata": {},
   "outputs": [
    {
     "data": {
      "text/plain": [
       "0    50.12\n",
       "1    54.10\n",
       "2    54.65\n",
       "3    52.38\n",
       "4    52.95\n",
       "Name: Stock Price, dtype: float64"
      ]
     },
     "execution_count": 131,
     "metadata": {},
     "output_type": "execute_result"
    }
   ],
   "source": [
    "google.head(5)"
   ]
  },
  {
   "cell_type": "code",
   "execution_count": 133,
   "metadata": {},
   "outputs": [
    {
     "data": {
      "text/plain": [
       "3012"
      ]
     },
     "execution_count": 133,
     "metadata": {},
     "output_type": "execute_result"
    }
   ],
   "source": [
    "# count\n",
    "# count exclude NaN values / len does not exclude\n",
    "\n",
    "google.count()"
   ]
  },
  {
   "cell_type": "code",
   "execution_count": 134,
   "metadata": {},
   "outputs": [
    {
     "data": {
      "text/plain": [
       "1006942.0"
      ]
     },
     "execution_count": 134,
     "metadata": {},
     "output_type": "execute_result"
    }
   ],
   "source": [
    "# sum\n",
    "\n",
    "google.sum()"
   ]
  },
  {
   "cell_type": "code",
   "execution_count": 136,
   "metadata": {},
   "outputs": [
    {
     "data": {
      "text/plain": [
       "334.31009296148744"
      ]
     },
     "execution_count": 136,
     "metadata": {},
     "output_type": "execute_result"
    }
   ],
   "source": [
    "# mean\n",
    "\n",
    "google.mean()"
   ]
  },
  {
   "cell_type": "code",
   "execution_count": 138,
   "metadata": {},
   "outputs": [
    {
     "data": {
      "text/plain": [
       "173.18720477113106"
      ]
     },
     "execution_count": 138,
     "metadata": {},
     "output_type": "execute_result"
    }
   ],
   "source": [
    "# standard deviation\n",
    "\n",
    "google.std()"
   ]
  },
  {
   "cell_type": "code",
   "execution_count": 139,
   "metadata": {},
   "outputs": [
    {
     "data": {
      "text/plain": [
       "782.22"
      ]
     },
     "execution_count": 139,
     "metadata": {},
     "output_type": "execute_result"
    }
   ],
   "source": [
    "# max\n",
    "\n",
    "google.max()"
   ]
  },
  {
   "cell_type": "code",
   "execution_count": 140,
   "metadata": {},
   "outputs": [
    {
     "data": {
      "text/plain": [
       "49.95"
      ]
     },
     "execution_count": 140,
     "metadata": {},
     "output_type": "execute_result"
    }
   ],
   "source": [
    "# min\n",
    "\n",
    "google.min()"
   ]
  },
  {
   "cell_type": "code",
   "execution_count": 141,
   "metadata": {},
   "outputs": [
    {
     "data": {
      "text/plain": [
       "283.315"
      ]
     },
     "execution_count": 141,
     "metadata": {},
     "output_type": "execute_result"
    }
   ],
   "source": [
    "# median\n",
    "\n",
    "google.median()"
   ]
  },
  {
   "cell_type": "code",
   "execution_count": 142,
   "metadata": {},
   "outputs": [
    {
     "data": {
      "text/plain": [
       "0    291.21\n",
       "dtype: float64"
      ]
     },
     "execution_count": 142,
     "metadata": {},
     "output_type": "execute_result"
    }
   ],
   "source": [
    "# mode\n",
    "\n",
    "google.mode()"
   ]
  },
  {
   "cell_type": "code",
   "execution_count": 143,
   "metadata": {},
   "outputs": [
    {
     "data": {
      "text/plain": [
       "count    3012.000000\n",
       "mean      334.310093\n",
       "std       173.187205\n",
       "min        49.950000\n",
       "25%       218.045000\n",
       "50%       283.315000\n",
       "75%       443.000000\n",
       "max       782.220000\n",
       "Name: Stock Price, dtype: float64"
      ]
     },
     "execution_count": 143,
     "metadata": {},
     "output_type": "execute_result"
    }
   ],
   "source": [
    "# describe - stats summary\n",
    "\n",
    "google.describe()"
   ]
  },
  {
   "cell_type": "markdown",
   "metadata": {},
   "source": [
    "### 18. idxmax and idxmin Methods"
   ]
  },
  {
   "cell_type": "code",
   "execution_count": 147,
   "metadata": {},
   "outputs": [
    {
     "name": "stdout",
     "output_type": "stream",
     "text": [
      "Max : 782.22 \t Min : 49.95\n"
     ]
    }
   ],
   "source": [
    "s_max = google.max()\n",
    "s_min = google.min()\n",
    "\n",
    "print (f\"Max : {s_max} \\t Min : {s_min}\")"
   ]
  },
  {
   "cell_type": "code",
   "execution_count": 148,
   "metadata": {},
   "outputs": [
    {
     "name": "stdout",
     "output_type": "stream",
     "text": [
      "Max : 3011 \t Min : 11\n"
     ]
    }
   ],
   "source": [
    "# return the index position that is storing the max/min vlaues\n",
    "\n",
    "i_max = google.idxmax()\n",
    "i_min = google.idxmin()\n",
    "\n",
    "print (f\"Max : {i_max} \\t Min : {i_min}\")"
   ]
  },
  {
   "cell_type": "code",
   "execution_count": 150,
   "metadata": {},
   "outputs": [
    {
     "name": "stdout",
     "output_type": "stream",
     "text": [
      "Max : 782.22 \t Min : 49.95\n"
     ]
    }
   ],
   "source": [
    "s_max_value = google[3011]\n",
    "s_min_value = google[11]\n",
    "\n",
    "print (f\"Max : {s_max_value} \\t Min : {s_min_value}\")"
   ]
  },
  {
   "cell_type": "code",
   "execution_count": 154,
   "metadata": {},
   "outputs": [
    {
     "name": "stdout",
     "output_type": "stream",
     "text": [
      "Max : 782.22 \t Min : 49.95\n"
     ]
    }
   ],
   "source": [
    "# just in one line\n",
    "\n",
    "print (f\"Max : {google[google.idxmax()]} \\t Min : {google[google.idxmin()]}\")"
   ]
  },
  {
   "cell_type": "markdown",
   "metadata": {},
   "source": [
    "### 19. The .value_counts() Method"
   ]
  },
  {
   "cell_type": "code",
   "execution_count": 157,
   "metadata": {},
   "outputs": [
    {
     "data": {
      "text/plain": [
       "Pokemon\n",
       "Abomasnow      Grass\n",
       "Abra         Psychic\n",
       "Absol           Dark\n",
       "Accelgor         Bug\n",
       "Aegislash      Steel\n",
       "Name: Type, dtype: object"
      ]
     },
     "execution_count": 157,
     "metadata": {},
     "output_type": "execute_result"
    }
   ],
   "source": [
    "pokemon.head(5)"
   ]
  },
  {
   "cell_type": "code",
   "execution_count": 156,
   "metadata": {},
   "outputs": [
    {
     "data": {
      "text/plain": [
       "Water       105\n",
       "Normal       93\n",
       "Grass        66\n",
       "Bug          63\n",
       "Fire         47\n",
       "Psychic      47\n",
       "Rock         41\n",
       "Electric     36\n",
       "Ground       30\n",
       "Dark         28\n",
       "Poison       28\n",
       "Fighting     25\n",
       "Dragon       24\n",
       "Ghost        23\n",
       "Ice          23\n",
       "Steel        22\n",
       "Fairy        17\n",
       "Flying        3\n",
       "Name: Type, dtype: int64"
      ]
     },
     "execution_count": 156,
     "metadata": {},
     "output_type": "execute_result"
    }
   ],
   "source": [
    "# count of the unique values (distinct count)\n",
    "\n",
    "pokemon.value_counts()"
   ]
  },
  {
   "cell_type": "code",
   "execution_count": 160,
   "metadata": {},
   "outputs": [
    {
     "data": {
      "text/plain": [
       "Flying        3\n",
       "Fairy        17\n",
       "Steel        22\n",
       "Ice          23\n",
       "Ghost        23\n",
       "Dragon       24\n",
       "Fighting     25\n",
       "Poison       28\n",
       "Dark         28\n",
       "Ground       30\n",
       "Electric     36\n",
       "Rock         41\n",
       "Psychic      47\n",
       "Fire         47\n",
       "Bug          63\n",
       "Grass        66\n",
       "Normal       93\n",
       "Water       105\n",
       "Name: Type, dtype: int64"
      ]
     },
     "execution_count": 160,
     "metadata": {},
     "output_type": "execute_result"
    }
   ],
   "source": [
    "# Reversing the presentation order\n",
    "\n",
    "pokemon.value_counts(ascending = True)"
   ]
  },
  {
   "cell_type": "markdown",
   "metadata": {},
   "source": [
    "### ***20. The .apply() Method***"
   ]
  },
  {
   "cell_type": "code",
   "execution_count": 161,
   "metadata": {},
   "outputs": [
    {
     "data": {
      "text/plain": [
       "0    50.12\n",
       "1    54.10\n",
       "2    54.65\n",
       "3    52.38\n",
       "4    52.95\n",
       "5    53.90\n",
       "Name: Stock Price, dtype: float64"
      ]
     },
     "execution_count": 161,
     "metadata": {},
     "output_type": "execute_result"
    }
   ],
   "source": [
    "google.head(6)"
   ]
  },
  {
   "cell_type": "code",
   "execution_count": 168,
   "metadata": {},
   "outputs": [],
   "source": [
    "# create a custom function\n",
    "\n",
    "def classify_performance(num):\n",
    "    if num < 300:\n",
    "        return \"OK\"\n",
    "    \n",
    "    elif num >= 300 and num < 650:\n",
    "        return \"Satisfactory\"\n",
    "    \n",
    "    else:\n",
    "        return \"Amazing\"\n",
    "\n"
   ]
  },
  {
   "cell_type": "code",
   "execution_count": 169,
   "metadata": {},
   "outputs": [
    {
     "data": {
      "text/plain": [
       "OK              1721\n",
       "Satisfactory    1075\n",
       "Amazing          216\n",
       "Name: Stock Price, dtype: int64"
      ]
     },
     "execution_count": 169,
     "metadata": {},
     "output_type": "execute_result"
    }
   ],
   "source": [
    "# call the apply method to call the custom function\n",
    "\n",
    "google.apply(classify_performance).value_counts()"
   ]
  },
  {
   "cell_type": "code",
   "execution_count": 171,
   "metadata": {},
   "outputs": [
    {
     "data": {
      "text/plain": [
       "0   -50.12\n",
       "1   -54.10\n",
       "2   -54.65\n",
       "3   -52.38\n",
       "4   -52.95\n",
       "5   -53.90\n",
       "6   -53.02\n",
       "7   -50.95\n",
       "8   -51.13\n",
       "9   -50.07\n",
       "Name: Stock Price, dtype: float64"
      ]
     },
     "execution_count": 171,
     "metadata": {},
     "output_type": "execute_result"
    }
   ],
   "source": [
    "# using lambda expression\n",
    "\n",
    "google.apply(lambda stock_price : stock_price * -1).head(10)"
   ]
  },
  {
   "cell_type": "markdown",
   "metadata": {},
   "source": [
    "## 21. The .map() Method"
   ]
  },
  {
   "cell_type": "code",
   "execution_count": 175,
   "metadata": {},
   "outputs": [
    {
     "data": {
      "text/plain": [
       "0     Bulbasaur\n",
       "1       Ivysaur\n",
       "2      Venusaur\n",
       "3    Charmander\n",
       "4    Charmeleon\n",
       "Name: Pokemon, dtype: object"
      ]
     },
     "execution_count": 175,
     "metadata": {},
     "output_type": "execute_result"
    }
   ],
   "source": [
    "pokemon_names = pd.read_csv('../resources/pokemon.csv',usecols=['Pokemon'], squeeze = True)\n",
    "pokemon_names.head(5)"
   ]
  },
  {
   "cell_type": "code",
   "execution_count": 177,
   "metadata": {},
   "outputs": [
    {
     "data": {
      "text/plain": [
       "Pokemon\n",
       "Bulbasaur     Grass\n",
       "Ivysaur       Grass\n",
       "Venusaur      Grass\n",
       "Charmander     Fire\n",
       "Charmeleon     Fire\n",
       "Name: Type, dtype: object"
      ]
     },
     "execution_count": 177,
     "metadata": {},
     "output_type": "execute_result"
    }
   ],
   "source": [
    "pokemon_types = pd.read_csv('../resources/pokemon.csv',index_col='Pokemon', squeeze = True)\n",
    "pokemon_types.head(5)"
   ]
  },
  {
   "cell_type": "code",
   "execution_count": 180,
   "metadata": {},
   "outputs": [
    {
     "data": {
      "text/plain": [
       "0    Grass\n",
       "1    Grass\n",
       "2    Grass\n",
       "3     Fire\n",
       "4     Fire\n",
       "Name: Pokemon, dtype: object"
      ]
     },
     "execution_count": 180,
     "metadata": {},
     "output_type": "execute_result"
    }
   ],
   "source": [
    "# simular to vlookup method in Excel or a join in SQL\n",
    "# \n",
    "# use to join 2 datasets\n",
    "#\n",
    "# on pokemon_names series\n",
    "#    get the first value = Bulbasaur\n",
    "# look at pokemon_types series\n",
    "#    return the value for the index name = Bulbasaur     \n",
    "\n",
    "pokemon_names.map(pokemon_types).head(5)"
   ]
  },
  {
   "cell_type": "code",
   "execution_count": 182,
   "metadata": {},
   "outputs": [
    {
     "data": {
      "text/plain": [
       "Water       105\n",
       "Normal       93\n",
       "Grass        66\n",
       "Bug          63\n",
       "Fire         47\n",
       "Psychic      47\n",
       "Rock         41\n",
       "Electric     36\n",
       "Ground       30\n",
       "Dark         28\n",
       "Poison       28\n",
       "Fighting     25\n",
       "Dragon       24\n",
       "Ice          23\n",
       "Ghost        23\n",
       "Steel        22\n",
       "Fairy        17\n",
       "Flying        3\n",
       "Name: Pokemon, dtype: int64"
      ]
     },
     "execution_count": 182,
     "metadata": {},
     "output_type": "execute_result"
    }
   ],
   "source": [
    "pokemon_names.map(pokemon_types).value_counts()"
   ]
  },
  {
   "cell_type": "code",
   "execution_count": null,
   "metadata": {},
   "outputs": [],
   "source": []
  }
 ],
 "metadata": {
  "kernelspec": {
   "display_name": "Python 3",
   "language": "python",
   "name": "python3"
  },
  "language_info": {
   "codemirror_mode": {
    "name": "ipython",
    "version": 3
   },
   "file_extension": ".py",
   "mimetype": "text/x-python",
   "name": "python",
   "nbconvert_exporter": "python",
   "pygments_lexer": "ipython3",
   "version": "3.7.1"
  }
 },
 "nbformat": 4,
 "nbformat_minor": 2
}
